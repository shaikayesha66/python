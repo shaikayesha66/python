{
  "nbformat": 4,
  "nbformat_minor": 0,
  "metadata": {
    "colab": {
      "provenance": [],
      "include_colab_link": true
    },
    "kernelspec": {
      "name": "python3",
      "display_name": "Python 3"
    },
    "language_info": {
      "name": "python"
    }
  },
  "cells": [
    {
      "cell_type": "markdown",
      "metadata": {
        "id": "view-in-github",
        "colab_type": "text"
      },
      "source": [
        "<a href=\"https://colab.research.google.com/github/shaikayesha66/python/blob/main/usecase.ipynb\" target=\"_parent\"><img src=\"https://colab.research.google.com/assets/colab-badge.svg\" alt=\"Open In Colab\"/></a>"
      ]
    },
    {
      "cell_type": "code",
      "execution_count": null,
      "metadata": {
        "id": "zan0yPUNvbeB"
      },
      "outputs": [],
      "source": [
        "import numpy as np\n",
        "import matplotlib.pyplot as plt\n",
        "import math\n",
        "\n",
        "# Binomial Probability Mass Function\n",
        "def binomial_pmf(k, n, p):\n",
        "    if k < 0 or k > n:\n",
        "        return 0\n",
        "    combination = math.factorial(n) / (math.factorial(k) * math.factorial(n - k))\n",
        "    return combination * (p ** k) * ((1 - p) ** (n - k))\n",
        "\n",
        "# Normal Probability Density Function\n",
        "def normal_pdf(x, mu, sigma):\n",
        "    coefficient = 1 / (sigma * math.sqrt(2 * math.pi))\n",
        "    exponent = -0.5 * ((x - mu) / sigma) ** 2\n",
        "    return coefficient * math.exp(exponent)\n",
        "\n",
        "# Poisson Probability Mass Function\n",
        "def poisson_pmf(k, lam):\n",
        "    if k < 0:\n",
        "        return 0\n",
        "    return (lam ** k * math.exp(-lam)) / math.factorial(k)\n",
        "\n",
        "# Uniform Probability Density Function\n",
        "def uniform_pdf(x, a, b):\n",
        "    if a <= x <= b:\n",
        "        return 1 / (b - a)\n",
        "    else:\n",
        "        return 0\n",
        "\n",
        "# Plot Binomial Distribution\n",
        "def plot_binomial(n=10, p=0.5):\n",
        "    x = np.arange(0, n + 1)\n",
        "    y = [binomial_pmf(val, n, p) for val in x]\n",
        "    plt.bar(x, y, color='skyblue', edgecolor='black')\n",
        "    plt.title(f'Binomial Distribution (n={n}, p={p})')\n",
        "    plt.xlabel('Number of Successes')\n",
        "    plt.ylabel('Probability')\n",
        "    plt.grid(True)\n",
        "    plt.show()\n",
        "\n",
        "# Plot Normal Distribution\n",
        "def plot_normal(mu=0, sigma=1):\n",
        "    x = np.linspace(mu - 4 * sigma, mu + 4 * sigma, 1000)\n",
        "    y = [normal_pdf(val, mu, sigma) for val in x]\n",
        "    plt.plot(x, y, color='green')\n",
        "    plt.title"
      ]
    }
  ]
}